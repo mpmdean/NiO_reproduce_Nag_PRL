{
 "cells": [
  {
   "cell_type": "code",
   "execution_count": 1,
   "metadata": {},
   "outputs": [],
   "source": [
    "import numpy as np\n",
    "import matplotlib.pyplot as plt\n",
    "import edrixs\n",
    "\n",
    "%matplotlib widget"
   ]
  },
  {
   "cell_type": "code",
   "execution_count": 2,
   "metadata": {},
   "outputs": [
    {
     "name": "stdout",
     "output_type": "stream",
     "text": [
      "[[7.835149206349206, 10.3989, 6.4582999999999995, 0, 0, 0, 0, 0, 0], [7.835149206349206, 10.3989, 6.4582999999999995, 8.947816428571429, 6.56285, 4.91895, 2.79735, 0.0, 0.0]]\n"
     ]
    }
   ],
   "source": [
    "nd = 8\n",
    "norb_d = 10\n",
    "norb_bath = 10\n",
    "nbath = 1\n",
    "v_noccu  = nd + nbath*norb_d\n",
    "shell_name = ('d', 'p') # valence and core shells for XAS calculation\n",
    "\n",
    "info  = edrixs.utils.get_atom_data('Ni', '3d', nd, edge='L3')\n",
    "scale_dd = 0.85\n",
    "F2_dd = info['slater_i'][1][1] * scale_dd\n",
    "F4_dd = info['slater_i'][2][1] * scale_dd\n",
    "U_dd = 7.3\n",
    "F0_dd = U_dd + edrixs.get_F0('d', F2_dd, F4_dd)\n",
    "\n",
    "scale_dp = 0.85\n",
    "F2_dp = info['slater_n'][4][1] * scale_dp\n",
    "G1_dp = info['slater_n'][5][1] * scale_dp\n",
    "G3_dp = info['slater_n'][6][1] * scale_dp\n",
    "U_dp = 8.5\n",
    "F0_dp = U_dp + edrixs.get_F0('dp', G1_dp, G3_dp)\n",
    "F0_pp, F2_pp = 0., 0.\n",
    "\n",
    "slater = [[F0_dd, F2_dd, F4_dd,\n",
    "           0, 0, 0, 0, 0, 0],\n",
    "          [F0_dd, F2_dd, F4_dd,\n",
    "           F0_dp, F2_dp, G1_dp, G3_dp,\n",
    "           F0_pp, F2_pp]]\n",
    "\n",
    "print(slater)"
   ]
  },
  {
   "cell_type": "code",
   "execution_count": 3,
   "metadata": {},
   "outputs": [],
   "source": [
    "# crystal field and charge transfer\n",
    "ten_dq = 0.56\n",
    "ten_dq_bath = 1.44\n",
    "Veg = 2.06\n",
    "Vt2g = 1.21\n",
    "Delta = 4.7\n",
    "\n",
    "ext_B = np.array([0.12, 0.24, 0.12])/np.sqrt(6)/2\n",
    "on_which = 'spin'\n",
    "\n",
    "zeta_d = 0.081\n",
    "c_soc = 11.51\n",
    "\n",
    "om_shift = 857.6\n",
    "\n",
    "thin = np.deg2rad(20)\n",
    "thout = np.deg2rad(146) - thin\n",
    "phi = 0.0\n",
    "temperature = 13\n",
    "\n",
    "pol_type_xas = [('linear', 0)]\n",
    "pol_type_rixs = [('linear', 0, 'linear', 0),\n",
    "                 ('linear', 0, 'linear', np.pi/2)]"
   ]
  },
  {
   "cell_type": "code",
   "execution_count": 4,
   "metadata": {},
   "outputs": [],
   "source": [
    "E_d, E_L = edrixs.CT_imp_bath(U_dd, Delta, nd)\n",
    "E_dc, E_Lc, E_p = edrixs.CT_imp_bath_core_hole(U_dd, U_dp, Delta, nd)\n",
    "\n",
    "\n",
    "trans_c2n = edrixs.tmat_c2r('d',True)\n",
    "CF = np.zeros((norb_d, norb_d), dtype=complex)\n",
    "diagonal_indices = np.arange(norb_d)\n",
    "\n",
    "orbital_energies = np.array([e for orbital_energy in\n",
    "                             [+0.6 * ten_dq, # dz2\n",
    "                              -0.4 * ten_dq, # dzx\n",
    "                              -0.4 * ten_dq, # dzy\n",
    "                              +0.6 * ten_dq, # dx2-y2\n",
    "                              -0.4 * ten_dq] # dxy)\n",
    "                             for e in [orbital_energy]*2])\n",
    "\n",
    "CF[diagonal_indices, diagonal_indices] = orbital_energies\n",
    "soc = edrixs.cb_op(edrixs.atom_hsoc('d', zeta_d), edrixs.tmat_c2r('d', True))\n",
    "E_d_mat = E_d*np.eye(norb_d)\n",
    "E_dc_mat = E_dc*np.eye(norb_d)\n",
    "imp_mat = CF + soc + E_d_mat\n",
    "imp_mat_n = CF + soc + E_dc_mat\n",
    "\n",
    "bath_level = np.full((nbath, norb_d), E_L, dtype=complex)\n",
    "bath_level[0, :2] += ten_dq_bath*.6  # 3z2-r2\n",
    "bath_level[0, 2:6] -= ten_dq_bath*.4  # zx/yz\n",
    "bath_level[0, 6:8] += ten_dq_bath*.6  # x2-y2\n",
    "bath_level[0, 8:] -= ten_dq_bath*.4  # xy\n",
    "bath_level_n = np.full((nbath, norb_d), E_Lc, dtype=complex)\n",
    "bath_level_n[0, :2] += ten_dq_bath*.6  # 3z2-r2\n",
    "bath_level_n[0, 2:6] -= ten_dq_bath*.4  # zx/yz\n",
    "bath_level_n[0, 6:8] += ten_dq_bath*.6  # x2-y2\n",
    "bath_level_n[0, 8:] -= ten_dq_bath*.4  # xy\n",
    "\n",
    "hyb = np.zeros((nbath, norb_d), dtype=complex)\n",
    "hyb[0, :2] = Veg  # 3z2-r2\n",
    "hyb[0, 2:6] = Vt2g  # zx/yz\n",
    "hyb[0, 6:8] = Veg  # x2-y2\n",
    "hyb[0, 8:] = Vt2g  # xy\n",
    "\n",
    "om_shift = 857.6\n",
    "c_level = -om_shift - 5*E_p\n",
    "ominc_xas = om_shift + np.linspace(-15, 25, 3000)\n",
    "eloss = np.linspace(-0.3, 9, 3000)\n",
    "gamma_c = 0.2\n",
    "gamma_f = 0.01"
   ]
  },
  {
   "cell_type": "code",
   "execution_count": 5,
   "metadata": {},
   "outputs": [
    {
     "name": "stdout",
     "output_type": "stream",
     "text": [
      "edrixs >>> Running ED ...\n",
      "\n",
      "    Summary of Slater integrals:\n",
      "    ------------------------------\n",
      "    Terms,  Initial Hamiltonian,  Intermediate Hamiltonian\n",
      "     F0_vv :          7.8351492063        7.8351492063\n",
      "     F2_vv :         10.3989000000       10.3989000000\n",
      "     F4_vv :          6.4583000000        6.4583000000\n",
      "     F0_vc :          0.0000000000        8.9478164286\n",
      "     F2_vc :          0.0000000000        6.5628500000\n",
      "     G1_vc :          0.0000000000        4.9189500000\n",
      "     G3_vc :          0.0000000000        2.7973500000\n",
      "     F0_cc :          0.0000000000        0.0000000000\n",
      "     F2_cc :          0.0000000000        0.0000000000\n",
      "\n",
      "edrixs >>> do_ed=1, perform ED at noccu:  18\n"
     ]
    }
   ],
   "source": [
    "from mpi4py import MPI\n",
    "comm = MPI.COMM_WORLD\n",
    "rank = comm.Get_rank()\n",
    "size = comm.Get_size()\n",
    "\n",
    "eval_i, denmat, noccu_gs = edrixs.ed_siam_fort(\n",
    "        comm, shell_name, nbath, siam_type=0, imp_mat=imp_mat, imp_mat_n=imp_mat_n,\n",
    "        bath_level=bath_level, bath_level_n=bath_level_n, hyb=hyb, c_level=c_level,\n",
    "        c_soc=c_soc, slater=slater, ext_B=ext_B,\n",
    "        on_which=on_which, trans_c2n=trans_c2n, v_noccu=v_noccu, do_ed=1,\n",
    "        ed_solver=2, neval=50, nvector=3, ncv=100, idump=True)\n"
   ]
  },
  {
   "cell_type": "code",
   "execution_count": 6,
   "metadata": {},
   "outputs": [
    {
     "name": "stdout",
     "output_type": "stream",
     "text": [
      "Impurity occupation = 8.178955\n",
      "\n",
      "Bath occupation = 9.821045\n",
      "\n"
     ]
    }
   ],
   "source": [
    "impurity_occupation = np.sum(denmat[0].diagonal()[0:norb_d]).real\n",
    "bath_occupation = np.sum(denmat[0].diagonal()[norb_d:]).real\n",
    "print('Impurity occupation = {:.6f}\\n'.format(impurity_occupation))\n",
    "print('Bath occupation = {:.6f}\\n'.format(bath_occupation))"
   ]
  },
  {
   "cell_type": "code",
   "execution_count": 7,
   "metadata": {},
   "outputs": [
    {
     "name": "stdout",
     "output_type": "stream",
     "text": [
      "edrixs >>> Running XAS ...\n",
      "edrixs >>> Loop over for polarization:  0 linear\n"
     ]
    }
   ],
   "source": [
    "xas, xas_poles = edrixs.xas_siam_fort(\n",
    "        comm, shell_name, nbath, ominc_xas, gamma_c=gamma_c, v_noccu=v_noccu, thin=thin,\n",
    "        phi=phi, num_gs=3, pol_type=pol_type_xas, temperature=temperature)"
   ]
  },
  {
   "cell_type": "code",
   "execution_count": 8,
   "metadata": {},
   "outputs": [
    {
     "data": {
      "text/plain": [
       "<matplotlib.lines.Line2D at 0x7f92e788aef0>"
      ]
     },
     "execution_count": 8,
     "metadata": {},
     "output_type": "execute_result"
    },
    {
     "data": {
      "image/png": "[encoded data removed]",
      "text/plain": [
       "<Figure size 432x288 with 1 Axes>"
      ]
     },
     "metadata": {
      "needs_background": "light"
     },
     "output_type": "display_data"
    }
   ],
   "source": [
    "fig, ax = plt.subplots()\n",
    "\n",
    "ax.plot(ominc_xas, xas.sum(-1))\n",
    "ax.set_xlabel('Incident energy (eV)')\n",
    "ax.set_ylabel('I')\n",
    "ax.set_title('XAS with resonant energy marked')\n",
    "\n",
    "resonance = ominc_xas[np.argmax(xas.sum(-1))]\n",
    "ax.axvline(x=resonance, linestyle=':', color='k')\n"
   ]
  },
  {
   "cell_type": "code",
   "execution_count": 9,
   "metadata": {},
   "outputs": [
    {
     "name": "stdout",
     "output_type": "stream",
     "text": [
      "edrixs >>> Running RIXS ...\n",
      "\n",
      "edrixs >>> Calculate RIXS for incident energy:  853.2435478492831\n",
      "edrixs >>> Polarization:  0\n",
      "\n",
      "edrixs >>> Calculate RIXS for incident energy:  853.2435478492831\n",
      "edrixs >>> Polarization:  1\n"
     ]
    }
   ],
   "source": [
    "rixs_pols, rixs_poles = edrixs.rixs_siam_fort(comm, shell_name, nbath, [resonance], eloss, gamma_c=gamma_c,\n",
    "                                       gamma_f=gamma_f, v_noccu=v_noccu, thin=thin, thout=thout, phi=phi,\n",
    "                                       pol_type=pol_type_rixs, num_gs=3, temperature=temperature)\n",
    "rixs = rixs_pols[0].sum(-1)"
   ]
  },
  {
   "cell_type": "code",
   "execution_count": 10,
   "metadata": {},
   "outputs": [
    {
     "data": {
      "text/plain": [
       "Text(0, 0.5, 'I')"
      ]
     },
     "execution_count": 10,
     "metadata": {},
     "output_type": "execute_result"
    },
    {
     "data": {
      "image/png": "[encoded data removed]",
      "text/plain": [
       "<Figure size 432x288 with 1 Axes>"
      ]
     },
     "metadata": {
      "needs_background": "light"
     },
     "output_type": "display_data"
    }
   ],
   "source": [
    "fig, ax = plt.subplots()\n",
    "\n",
    "ax.plot(eloss, rixs)\n",
    "\n",
    "ax.set_title('RIXS at main $L_3$ resonance')\n",
    "ax.set_xlabel('Energy loss (eV)')\n",
    "ax.set_ylabel('I')"
   ]
  },
  {
   "cell_type": "code",
   "execution_count": 11,
   "metadata": {},
   "outputs": [
    {
     "data": {
      "text/plain": [
       "(-0.2, 2.2)"
      ]
     },
     "execution_count": 11,
     "metadata": {},
     "output_type": "execute_result"
    },
    {
     "data": {
      "image/png": "[encoded data removed]",
      "text/plain": [
       "<Figure size 432x288 with 1 Axes>"
      ]
     },
     "metadata": {
      "needs_background": "light"
     },
     "output_type": "display_data"
    }
   ],
   "source": [
    "fig, ax = plt.subplots()\n",
    "\n",
    "ax.plot(eloss, rixs)\n",
    "\n",
    "ax.set_title('RIXS at main $L_3$ resonance Zoom')\n",
    "ax.set_xlabel('Energy loss (eV)')\n",
    "ax.set_ylabel('I')\n",
    "ax.set_xlim(-.2, 2.2)"
   ]
  },
  {
   "cell_type": "code",
   "execution_count": null,
   "metadata": {},
   "outputs": [],
   "source": []
  }
 ],
 "metadata": {
  "kernelspec": {
   "display_name": "Python 3",
   "language": "python",
   "name": "python3"
  },
  "language_info": {
   "codemirror_mode": {
    "name": "ipython",
    "version": 3
   },
   "file_extension": ".py",
   "mimetype": "text/x-python",
   "name": "python",
   "nbconvert_exporter": "python",
   "pygments_lexer": "ipython3",
   "version": "3.6.9"
  }
 },
 "nbformat": 4,
 "nbformat_minor": 4
}
